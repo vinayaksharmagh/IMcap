{
 "cells": [
  {
   "cell_type": "code",
   "execution_count": 0,
   "metadata": {
    "colab": {
     "base_uri": "https://localhost:8080/",
     "height": 34
    },
    "colab_type": "code",
    "id": "tK8UcPKzXxOh",
    "outputId": "c491d3d1-9f90-44ae-9afb-5fa4b22703cd"
   },
   "outputs": [
    {
     "name": "stderr",
     "output_type": "stream",
     "text": [
      "Using TensorFlow backend.\n"
     ]
    }
   ],
   "source": [
    "import tensorflow as tf\n",
    "import numpy as np\n",
    "import pandas as pd\n",
    "import time\n",
    "import random\n",
    "import matplotlib.pyplot as plt"
   ]
  },
  {
   "cell_type": "code",
   "execution_count": 0,
   "metadata": {
    "colab": {
     "base_uri": "https://localhost:8080/",
     "height": 52
    },
    "colab_type": "code",
    "id": "ZHf32YwKdb2u",
    "outputId": "9e838671-7528-4440-ba68-a4bb1fbd569b"
   },
   "outputs": [
    {
     "name": "stderr",
     "output_type": "stream",
     "text": [
      "/usr/local/lib/python3.6/dist-packages/IPython/core/interactiveshell.py:2718: DtypeWarning: Columns (1) have mixed types.Specify dtype option on import or set low_memory=False.\n",
      "  interactivity=interactivity, compiler=compiler, result=result)\n"
     ]
    }
   ],
   "source": [
    "import ast\n",
    "image_path = '/ImageCap/imagesB/flickr30k-images/'\n",
    "feat_path = '/ImageCap/image_feat/'\n",
    "text_path = '/ImageCap/captions_pros.csv'\n",
    "df = pd.read_csv(text_path)\n",
    "\n",
    "image_name_list = list(set(df['image_name'])) #obtaining unique instance name of each image\n",
    "image_path_list = list(map(lambda arg: image_path + arg, image_name_list))"
   ]
  },
  {
   "cell_type": "code",
   "execution_count": 0,
   "metadata": {
    "colab": {
     "base_uri": "https://localhost:8080/",
     "height": 34
    },
    "colab_type": "code",
    "id": "v4k6Wd0-2ULg",
    "outputId": "7c40f5d8-f8bc-45e3-fa2e-f037673dc23e"
   },
   "outputs": [
    {
     "data": {
      "text/plain": [
       "(18290, 300)"
      ]
     },
     "execution_count": 8,
     "metadata": {
      "tags": []
     },
     "output_type": "execute_result"
    }
   ],
   "source": [
    "M = np.load('/ImageCap/embedB.npy')\n",
    "M.shape"
   ]
  },
  {
   "cell_type": "code",
   "execution_count": 0,
   "metadata": {
    "colab": {
     "base_uri": "https://localhost:8080/",
     "height": 34
    },
    "colab_type": "code",
    "id": "2S0aYfudo8O-",
    "outputId": "c6bdde9e-5b5c-47e0-cc8e-902cd099357b"
   },
   "outputs": [
    {
     "data": {
      "text/plain": [
       "(158915, 80)"
      ]
     },
     "execution_count": 9,
     "metadata": {
      "tags": []
     },
     "output_type": "execute_result"
    }
   ],
   "source": [
    "cap_seq = np.load('/ImageCap/caption_vec.npy')\n",
    "cap_seq.shape"
   ]
  },
  {
   "cell_type": "code",
   "execution_count": 0,
   "metadata": {
    "colab": {},
    "colab_type": "code",
    "id": "Cqb1OmTnR8hi"
   },
   "outputs": [],
   "source": [
    "import pickle\n",
    "\n",
    "word_ind_map=dict()\n",
    "with open('/ImageCap/word_ind_map.pkl', 'rb') as f:\n",
    "  word_ind_map = pickle.load(f)\n",
    "\n",
    "ind_word_map=dict()\n",
    "with open('/ImageCap/ind_word_map.pkl', 'rb') as f:\n",
    "  ind_word_map = pickle.load(f)"
   ]
  },
  {
   "cell_type": "code",
   "execution_count": 0,
   "metadata": {
    "colab": {
     "base_uri": "https://localhost:8080/",
     "height": 34
    },
    "colab_type": "code",
    "id": "bvKDGcaRB_9M",
    "outputId": "38292ce4-1266-4c10-aa6a-3f8f58e9ff9d"
   },
   "outputs": [
    {
     "name": "stdout",
     "output_type": "stream",
     "text": [
      "100000 100000 10000 10000\n"
     ]
    }
   ],
   "source": [
    "from sklearn.utils import shuffle\n",
    "#Since there are multiple captions for same images so in order to have disjoint train and test sets\n",
    "#(sharing no images) we need to first split and then shuffle \n",
    "#(unlike what's done by train_test_split() function of sklearn)\n",
    "\n",
    "#num below should be a multiple of 5 because for each image there are 5 captions which means \n",
    "#same image is repeated 5 times\n",
    "\n",
    "num = 100000 #num of training examples \n",
    "test_num = 10000 #num of test examples\n",
    "\n",
    "X = np.array(df['image_name'])\n",
    "\n",
    "X_train = X[0:num]\n",
    "y_train = cap_seq[0:num]\n",
    "X_train, y_train = shuffle(X_train, y_train, random_state=1)\n",
    "\n",
    "X_test = X[num:num+test_num]\n",
    "y_test = cap_seq[num:num+test_num]\n",
    "X_test, y_test = shuffle(X_test, y_test, random_state=1)\n",
    "\n",
    "print(len(X_train), len(y_train), len(X_test), len(y_test))"
   ]
  },
  {
   "cell_type": "code",
   "execution_count": 0,
   "metadata": {
    "colab": {},
    "colab_type": "code",
    "id": "QyGXR-601BNu"
   },
   "outputs": [],
   "source": [
    "def map_to_img(img_name, caption):\n",
    "  img = np.load(feat_path + img_name.decode('utf-8') + '.npy')\n",
    "  return img, caption\n",
    "\n",
    "data = tf.data.Dataset.from_tensor_slices((X_train, y_train))\n",
    "data = data.map(lambda arg1, arg2: tf.numpy_function(func = map_to_img, inp = [arg1, arg2], Tout = [tf.float32, tf.int32]), num_parallel_calls=tf.data.experimental.AUTOTUNE) \n",
    "\n",
    "data = data.shuffle(1000).batch(64)\n",
    "data = data.prefetch(buffer_size=tf.data.experimental.AUTOTUNE)"
   ]
  },
  {
   "cell_type": "code",
   "execution_count": 0,
   "metadata": {
    "colab": {},
    "colab_type": "code",
    "id": "OwEziQH16Uyz"
   },
   "outputs": [],
   "source": [
    "class ENCODER(tf.keras.Model):\n",
    "  def __init__(self, embed_dim):\n",
    "    super(ENCODER,self).__init__()\n",
    "    self.den = tf.keras.layers.Dense(embed_dim)\n",
    "\n",
    "  def call(self, x): #input x will be of dimention (batch x 64 x 2048), this can be visulized as 64 \n",
    "                     #attentionable regions in image each with 2048 features\n",
    "    x = self.den(x)  #This dense is applied so as to make feature space of image regions (2048 features) \n",
    "                     #and that of tokens (300 features) consistent \n",
    "    x = tf.nn.relu(x)\n",
    "    return x"
   ]
  },
  {
   "cell_type": "code",
   "execution_count": 0,
   "metadata": {
    "colab": {},
    "colab_type": "code",
    "id": "NsWutIQih1Fg"
   },
   "outputs": [],
   "source": [
    "class ATTEND(tf.keras.Model): #this class deals with training of a small NN to learn score which is \n",
    "                              #further used to calculate attention weights and context\n",
    "  \n",
    "  def __init__(self, units):\n",
    "    super(ATTEND, self).__init__()\n",
    "    #Here W1 and W2 are used to learn suitable parameters so as to obtain suitable \n",
    "    #score=tanh(W1(feat)+W2(hidden)) (which minimizes cost) while V is used to apply \n",
    "    #softmax on score (along dim of attentionable regions (64)) so as to obtain \n",
    "    #attention weights for all attentionable regions \n",
    "    \n",
    "    self.W1 = tf.keras.layers.Dense(units)\n",
    "    self.W2 = tf.keras.layers.Dense(units)\n",
    "    self.V = tf.keras.layers.Dense(1)\n",
    "\n",
    "  def call(self, feat, hidden): #where score depends on features computed by encoder (feat) \n",
    "                                #and hidden state upto current time of decoder (hidden)\n",
    "                                #where feat is of dim (batch x 64 x 300) and hidden is of \n",
    "                                #dim (batch x hidden_size) \n",
    "   \n",
    "    hidden_ = tf.expand_dims(hidden, axis=1) #This basically inserts a new axis at axis \n",
    "                                             #index 1 (it is being done so that addition of \n",
    "                                             #W1 and W2 while calculating score can be done properly \n",
    "                                             #by broadcasting axis 1 to 64 units as shown below)\n",
    "    \n",
    "    score = tf.nn.tanh( self.W1(feat) + self.W2(hidden_) ) #score will be of dim (batch x 64 x hidden_size)\n",
    "\n",
    "    att_wt = tf.nn.softmax(self.V(score), axis=1) #Note that softmax is applied at axis=1 \n",
    "                                                  #(which contains all attentionable regions)\n",
    "                                                  #att_wt is of dim (batch x 64 x 1)\n",
    "\n",
    "    #Context is basically weighted sum of features (weighted by attention weights), so here \n",
    "    #we first perform mult of all 300 features by att_weights (via broadcasting)\n",
    "    #Then summation is done along the dimention of attentionable regions (i.e axis of 64 (here axis=1))\n",
    "    \n",
    "    context = att_wt*feat \n",
    "    context = tf.reduce_sum(context, axis=1) #its dim will be (batch x hidden_size)\n",
    "\n",
    "    return context, att_wt\n",
    "\n"
   ]
  },
  {
   "cell_type": "code",
   "execution_count": 0,
   "metadata": {
    "colab": {},
    "colab_type": "code",
    "id": "35NE03jax--2"
   },
   "outputs": [],
   "source": [
    "class DECODER(tf.keras.Model):\n",
    "\n",
    "  def __init__(self, units, embed_M, sentence_length):\n",
    "    super(DECODER, self).__init__()\n",
    "    self.units = units\n",
    "    self.embed = tf.keras.layers.Embedding(input_dim=embed_M.shape[0], output_dim=embed_M.shape[1], weights=[embed_M], input_length=sentence_length, trainable=False )\n",
    "    self.lstm = tf.keras.layers.LSTM(units=units, return_sequences=True, return_state=True) \n",
    "    #at each time step, lstm is supposed to return both output as well as hidden state\n",
    "    \n",
    "    #output of lstm is fed to a FC network consisting of 2 dense layers\n",
    "    self.den1 = tf.keras.layers.Dense(units)\n",
    "    self.den2 = tf.keras.layers.Dense(embed_M.shape[0])   \n",
    "    #This last dense layer contains vocab no of elements (it just contains elements and not their probability\n",
    "    # (tanh activation is being used, not softmax) .Later for loss we will simply find difference \n",
    "    #in probability distribution of actual and predicted elements using entropy)\n",
    "\n",
    "    self.attend = ATTEND(units)\n",
    "\n",
    "\n",
    "\n",
    "  def call(self, tok, feat, hidden): #decoder takes prev time-step token, hidden state of prev \n",
    "                                     #time-step decoder RNN and context vector for current time-step \n",
    "                                     #(which is obtained by attedding over image feat) as input and \n",
    "                                     #returns tok and hidden state at current time-step\n",
    " \n",
    "    context, att_wt = self.attend(feat, hidden)\n",
    "    x = self.embed(tok) #obtain token in embedded form (batch x 1 x embed_dim)\n",
    "\n",
    "    #Now we need to feed both embedded tok and context as input to the lstm layer, \n",
    "    #but lstm layer has single input arg, so we concatenate both these things and input this concat to lstm\n",
    "    context_ = tf.expand_dims(context,1) #insert a new axis at index 1 so that upcoming concat can happen properly\n",
    "    x = tf.concat([context_, x], axis=2) #concat will happen along axis=2 leading to \n",
    "                                         #dim (batch x 1 x (embed_dim+hidden_size))\n",
    "    output, state, _ = self.lstm(x) \n",
    "    \n",
    "    x = self.den1(output) #(batch x sentence_length x hidden_size)\n",
    "    x = tf.reshape(x, (-1, x.shape[2])) # this reduces first 2 dims to single dim \n",
    "                                        #by mult them to give ((batch*sentence_length) x hidden_size)\n",
    "    x = self.den2(x) \n",
    "    return x, state, att_wt\n",
    "\n",
    "  def reset_state(self, batch_size): #hidden state dim is (batch x units) and is fixed for each time-step \n",
    "    return tf.zeros((batch_size, self.units))\n"
   ]
  },
  {
   "cell_type": "code",
   "execution_count": 0,
   "metadata": {
    "colab": {},
    "colab_type": "code",
    "id": "Xkz98G9wB9pi"
   },
   "outputs": [],
   "source": [
    "embed_dim = 300\n",
    "units = 512\n",
    "version = '5' #different model versions were trained using different amount of training data. Of these,\n",
    "              #version 5 (trained on 20,000 images and corrosponding captions) performs the best\n",
    "              #This Notebook contains training code for the same\n",
    "\n",
    "enc = ENCODER(embed_dim)\n",
    "dec = DECODER(units, M, len(y_train[0]))"
   ]
  },
  {
   "cell_type": "code",
   "execution_count": 0,
   "metadata": {
    "colab": {},
    "colab_type": "code",
    "id": "C10_xa0IB9ro"
   },
   "outputs": [],
   "source": [
    "loss_obj = tf.keras.losses.SparseCategoricalCrossentropy(from_logits=True)\n",
    "\n",
    "def loss_fun(real, pred):\n",
    "  mask = tf.math.logical_not(tf.math.equal(real,0)) #If real == padding_token then put 0 in mask vector else 1 \n",
    "  L = loss_obj(real, pred) \n",
    "  mask = tf.cast(mask, dtype=L.dtype) #by default mask will be of bool type, \n",
    "                                      #so before applying it we need to make its type same as that of loss\n",
    "  L *= mask #This elementwise mult with mask removes loss for padding tokens\n",
    "  return tf.reduce_mean(L) #mean of loss vector is returned\n",
    "\n",
    "opt = tf.keras.optimizers.Adam()"
   ]
  },
  {
   "cell_type": "code",
   "execution_count": 0,
   "metadata": {
    "colab": {
     "base_uri": "https://localhost:8080/",
     "height": 34
    },
    "colab_type": "code",
    "id": "5uKEhCZfB9wX",
    "outputId": "6ec83180-5308-412d-e2df-2cbddaa1dc54"
   },
   "outputs": [
    {
     "data": {
      "text/plain": [
       "17"
      ]
     },
     "execution_count": 19,
     "metadata": {
      "tags": []
     },
     "output_type": "execute_result"
    }
   ],
   "source": [
    "checkpoint_path = \"/ImageCap/checkpoints/train\"+version\n",
    "ckpt = tf.train.Checkpoint(encoder=enc, decoder=dec, optimizer = opt) \n",
    "\n",
    "ckpt_manager = tf.train.CheckpointManager(ckpt, checkpoint_path, max_to_keep=5)\n",
    "start_epoch = 0\n",
    "\n",
    "# restoring the latest checkpoint in checkpoint_path\n",
    "if ckpt_manager.latest_checkpoint:\n",
    "  start_epoch = int(ckpt_manager.latest_checkpoint.split('-')[-1])\n",
    "  ckpt.restore(ckpt_manager.latest_checkpoint)\n",
    "start_epoch "
   ]
  },
  {
   "cell_type": "code",
   "execution_count": null,
   "metadata": {},
   "outputs": [],
   "source": [
    "loss_plot = []\n",
    "try:\n",
    "    #if resuming from an epoch then load list from a saved txt file\n",
    "    with open('/ImageCap/checkpoints/train'+version+'/loss.txt', 'r') as f:\n",
    "          loss_plot = list(map(lambda arg: float(arg), f.readlines()))\n",
    "except:\n",
    "    pass"
   ]
  },
  {
   "cell_type": "code",
   "execution_count": 0,
   "metadata": {
    "colab": {},
    "colab_type": "code",
    "id": "KnjmlzqLM38y"
   },
   "outputs": [],
   "source": [
    "@tf.function\n",
    "def train(img, target_cap): #This function is called for each batch\n",
    "  batch_loss = 0\n",
    "  hidden = dec.reset_state(batch_size=target_cap.shape[0])\n",
    "\n",
    "  input_tok = tf.expand_dims([word_ind_map['<start>']]*target_cap.shape[0],axis=1) \n",
    "  #this effectively generates a vector of dim 64x1 having 64 index elements corrosponding to\n",
    "  #<start> token. This is done because the first ever input token fed to decoder is <start> token\n",
    "\n",
    "  with tf.GradientTape() as tape:\n",
    "    feat = enc(img)\n",
    "\n",
    "    for t in range(1,target_cap.shape[1]): #This is infact forward prop through various time steps of decoder RNN \n",
    "                                           #we start with t=1 and not t=0 because input_tok, \n",
    "                                           #hidden etc for t=0 were already obtained above\n",
    "      \n",
    "      pred, hidden, p = dec(input_tok, feat, hidden) #hidden fed on right is of time t-1 and hidden obtained \n",
    "                                                     #on left is of time t\n",
    "      input_tok = tf.expand_dims(target_cap[:,t], axis=1) #Here instead of feeding predicted tok to \n",
    "                                                          #next timestep, we are feeding real tok \n",
    "                                                          #to next timestep. \n",
    "                                                          #This is called teacher forcing \n",
    "      batch_loss += loss_fun(target_cap[:,t], pred) \n",
    "\n",
    "    tot_loss = batch_loss/int(target_cap.shape[1]) #dividing by no of time-steps\n",
    "\n",
    "    trainable_variables = enc.trainable_variables + dec.trainable_variables\n",
    "    gradients = tape.gradient(batch_loss, trainable_variables)\n",
    "    opt.apply_gradients(zip(gradients, trainable_variables))\n",
    "\n",
    "    return batch_loss, tot_loss"
   ]
  },
  {
   "cell_type": "code",
   "execution_count": 0,
   "metadata": {
    "colab": {
     "base_uri": "https://localhost:8080/",
     "height": 1000
    },
    "colab_type": "code",
    "id": "cPmwkLKrXHfD",
    "outputId": "0730709c-54b8-4fd8-bb88-867ead043d86"
   },
   "outputs": [
    {
     "name": "stdout",
     "output_type": "stream",
     "text": [
      "Epoch 18 Batch 0 Loss 0.2638\n",
      "Epoch 18 Batch 100 Loss 0.3131\n",
      "Epoch 18 Batch 200 Loss 0.2853\n",
      "Epoch 18 Batch 300 Loss 0.2691\n",
      "Epoch 18 Batch 400 Loss 0.2876\n",
      "Epoch 18 Batch 500 Loss 0.2938\n",
      "Epoch 18 Batch 600 Loss 0.2800\n",
      "Epoch 18 Batch 700 Loss 0.2929\n",
      "Epoch 18 Batch 800 Loss 0.2849\n",
      "Epoch 18 Batch 900 Loss 0.2615\n",
      "Epoch 18 Batch 1000 Loss 0.2657\n",
      "Epoch 18 Batch 1100 Loss 0.2763\n",
      "Epoch 18 Batch 1200 Loss 0.2514\n",
      "Epoch 18 Batch 1300 Loss 0.2593\n",
      "Epoch 18 Batch 1400 Loss 0.2792\n",
      "Epoch 18 Batch 1500 Loss 0.2992\n",
      "Epoch 18 Loss 0.279881\n",
      "Time taken for 1 epoch 11479.909207582474 sec\n",
      "\n",
      "Epoch 19 Batch 0 Loss 0.2641\n",
      "Epoch 19 Batch 100 Loss 0.2564\n",
      "Epoch 19 Batch 200 Loss 0.2683\n",
      "Epoch 19 Batch 300 Loss 0.2799\n",
      "Epoch 19 Batch 400 Loss 0.3054\n",
      "Epoch 19 Batch 500 Loss 0.2925\n",
      "Epoch 19 Batch 600 Loss 0.2589\n",
      "Epoch 19 Batch 700 Loss 0.2429\n",
      "Epoch 19 Batch 800 Loss 0.2586\n",
      "Epoch 19 Batch 900 Loss 0.2781\n",
      "Epoch 19 Batch 1000 Loss 0.3036\n",
      "Epoch 19 Batch 1100 Loss 0.2616\n",
      "Epoch 19 Batch 1200 Loss 0.2689\n",
      "Epoch 19 Batch 1300 Loss 0.2496\n",
      "Epoch 19 Batch 1400 Loss 0.3013\n",
      "Epoch 19 Batch 1500 Loss 0.3093\n",
      "Epoch 19 Loss 0.278953\n",
      "Time taken for 1 epoch 9043.87217783928 sec\n",
      "\n",
      "Epoch 20 Batch 0 Loss 0.2860\n",
      "Epoch 20 Batch 100 Loss 0.2476\n",
      "Epoch 20 Batch 200 Loss 0.2831\n",
      "Epoch 20 Batch 300 Loss 0.2872\n",
      "Epoch 20 Batch 400 Loss 0.2637\n",
      "Epoch 20 Batch 500 Loss 0.2673\n",
      "Epoch 20 Batch 600 Loss 0.2575\n",
      "Epoch 20 Batch 700 Loss 0.2717\n",
      "Epoch 20 Batch 800 Loss 0.2198\n",
      "Epoch 20 Batch 900 Loss 0.2529\n",
      "Epoch 20 Batch 1000 Loss 0.2876\n",
      "Epoch 20 Batch 1100 Loss 0.2349\n",
      "Epoch 20 Batch 1200 Loss 0.2725\n",
      "Epoch 20 Batch 1300 Loss 0.2473\n",
      "Epoch 20 Batch 1400 Loss 0.2644\n",
      "Epoch 20 Batch 1500 Loss 0.2340\n",
      "Epoch 20 Loss 0.273424\n",
      "Time taken for 1 epoch 10373.156922101974 sec\n",
      "\n"
     ]
    }
   ],
   "source": [
    "EPOCHS = 20 \n",
    "num_steps = len(X_train) // 64 #no of steps in a single Epoch\n",
    "for epoch in range(start_epoch, EPOCHS):\n",
    "    start = time.time()\n",
    "    total_loss = 0\n",
    "    #batch=1\n",
    "    \n",
    "    for (batch, (img_tensor, target)) in enumerate(data):\n",
    "        batch_loss, t_loss = train(img_tensor, target)\n",
    "        total_loss += t_loss\n",
    "\n",
    "        if batch % 100 == 0:\n",
    "          print ('Epoch {} Batch {} Loss {:.4f}'.format(epoch + 1, batch, batch_loss.numpy() / int(target.shape[1])))\n",
    "\n",
    "    loss_plot.append(total_loss / num_steps)\n",
    "    with open('/ImageCap/checkpoints/train'+version+'/loss.txt', 'a') as f:\n",
    "      f.write(str(total_loss / num_steps))\n",
    "      f.write('\\n')\n",
    "      \n",
    "    ckpt_manager.save()\n",
    "\n",
    "    print ('Epoch {} Loss {:.6f}'.format(epoch + 1, total_loss/num_steps))\n",
    "    print ('Time taken for 1 epoch {} sec\\n'.format(time.time() - start))"
   ]
  },
  {
   "cell_type": "code",
   "execution_count": 0,
   "metadata": {
    "colab": {
     "base_uri": "https://localhost:8080/"
    },
    "colab_type": "code",
    "id": "muXZlmm9tew8",
    "outputId": "49dbca3c-c700-4d13-a83f-e974417406be"
   },
   "outputs": [
    {
     "data": {
      "image/png": "[encoded data removed]",
      "text/plain": [
       "<Figure size 432x288 with 1 Axes>"
      ]
     },
     "metadata": {
      "needs_background": "light",
      "tags": []
     },
     "output_type": "display_data"
    }
   ],
   "source": [
    "plt.plot(loss_plot)\n",
    "plt.xlabel('Epochs')\n",
    "plt.ylabel('Loss')\n",
    "plt.title('Loss Plot')\n",
    "plt.show()"
   ]
  },
  {
   "cell_type": "code",
   "execution_count": 0,
   "metadata": {
    "colab": {},
    "colab_type": "code",
    "id": "ESRe0jKVxDQ3"
   },
   "outputs": [],
   "source": [
    "enc.save_weights('/ImageCap/models/encoder'+version+'/')\n",
    "dec.save_weights('/ImageCap/models/decoder'+version+'/')"
   ]
  }
 ],
 "metadata": {
  "accelerator": "GPU",
  "colab": {
   "collapsed_sections": [],
   "name": "Training.ipynb",
   "provenance": []
  },
  "kernelspec": {
   "display_name": "Python 3",
   "language": "python",
   "name": "python3"
  },
  "language_info": {
   "codemirror_mode": {
    "name": "ipython",
    "version": 3
   },
   "file_extension": ".py",
   "mimetype": "text/x-python",
   "name": "python",
   "nbconvert_exporter": "python",
   "pygments_lexer": "ipython3",
   "version": "3.7.1"
  }
 },
 "nbformat": 4,
 "nbformat_minor": 1
}
